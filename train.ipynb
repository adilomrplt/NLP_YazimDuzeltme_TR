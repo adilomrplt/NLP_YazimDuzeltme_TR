{
 "cells": [
  {
   "cell_type": "markdown",
   "id": "9c3cff0a",
   "metadata": {},
   "source": [
    "## 1. PyTorch ve GPU Kontrolü\n",
    "\n",
    "bilgisayarımızda CUDA yani GPU desteği olup olmadığını kontrol ettik.  \n",
    "Eğer CUDA destekliyse, kullanılan ekran kartının (GPU'nun) adını da ekrana yazdırdık.\n",
    "\n",
    "Bu şekilde, kodlarımızı GPU ile hızlandırıp hızlandıramayacağımızı baştan görmüş olduk.\n"
   ]
  },
  {
   "cell_type": "code",
   "execution_count": 1,
   "id": "6fce76b2",
   "metadata": {},
   "outputs": [
    {
     "name": "stdout",
     "output_type": "stream",
     "text": [
      "PyTorch sürümü: 2.7.0+cu118\n",
      "CUDA kullanılabilir mi? True\n",
      "Kullanılan GPU: NVIDIA GeForce RTX 3050 Ti Laptop GPU\n"
     ]
    }
   ],
   "source": [
    "import torch\n",
    "print(\"PyTorch sürümü:\", torch.__version__)\n",
    "print(\"CUDA kullanılabilir mi?\", torch.cuda.is_available())\n",
    "if torch.cuda.is_available():\n",
    "    print(\"Kullanılan GPU:\", torch.cuda.get_device_name(0))\n"
   ]
  },
  {
   "cell_type": "markdown",
   "id": "a5757fc2",
   "metadata": {},
   "source": [
    "## 2. Veri Setinin Hazırlanması ve Karakter Kodlama\n",
    "\n",
    "\n",
    " **Veri okuma:**  \n",
    "  `dataset.csv` dosyasını okuduk ve bir pandas DataFrame olarak aldık.\n",
    "\n",
    " **Uzunluk filtresi:**  \n",
    "  Hem yanlış hem de doğru kelimelerin uzunluğunu 30 karakterden fazla olanları eledik.  \n",
    "  Çok uzun kelimeleri çıkardık, çünkü model bunları öğrenmekte zorlanabilir.\n",
    "\n",
    " **Aynı eşleşmeleri kaldırdık:**  \n",
    "  Aynı yanlış-doğru kelime çiftlerinden tekrar edenleri sildik, sadece benzersiz olanlar kaldı.\n",
    "\n",
    " **Karakter tablosu:**  \n",
    "  Veri setinde geçen tüm harfleri bir araya getirdik ve sıraladık.  \n",
    "  Sonra özel olarak `<pad>`, `<s>` (başlangıç) ve `<e>` (bitiş) karakterlerini de ekledik.  \n",
    "  Bu karakterlerin her birine bir sayı verdik (char2idx ve idx2char sözlükleriyle).\n",
    "\n",
    " **Alfabe boyutu ve maksimum kelime uzunluğu:**  \n",
    "  Kaç farklı karakter kullanıldığını (VOCAB_SIZE) ve en uzun kelimenin kaç karakter olduğunu bulduk (MAX_KELIME).\n",
    "\n",
    " **Kelime kodlama fonksiyonu:**  \n",
    "  Her kelimeyi başına `<s>`, sonuna `<e>` karakterleri ekleyerek sayıya çevirdik.  \n",
    "  Eğer bir kelime kısa ise, sonuna `<pad>` ekleyerek hep aynı uzunlukta olmalarını sağladık.\n",
    "\n",
    " **Veri encoding:**  \n",
    "  Tüm yanlış ve doğru kelimeleri bu şekilde sayıya çevirdik.  \n",
    "  Son olarak veri şekillerini ekrana yazdırdık.\n",
    "\n",
    "Böylece modelimiz için kelimeler artık harf harf değil, sayı dizisi olarak hazırlandı.\n"
   ]
  },
  {
   "cell_type": "code",
   "execution_count": null,
   "id": "49cf20f4",
   "metadata": {},
   "outputs": [
    {
     "name": "stdout",
     "output_type": "stream",
     "text": [
      "Kalan veri: 8848261\n",
      "Alfabe boyutu: 66\n",
      "MAX_KELIME: 30\n",
      "Encoding tamam. Yanlış şekli: (8848261, 32) Doğru şekli: (8848261, 32)\n"
     ]
    }
   ],
   "source": [
    "import pandas as pd\n",
    "import numpy as np\n",
    "\n",
    "df = pd.read_csv('dataset.csv', sep=';')\n",
    "\n",
    "UZUNLUK_SINIRI = 30\n",
    "df = df[(df['yanlis_kelime'].str.len() <= UZUNLUK_SINIRI) & (df['dogru_kelime'].str.len() <= UZUNLUK_SINIRI)]\n",
    "df = df[df['yanlis_kelime'] != df['dogru_kelime']]\n",
    "df = df.drop_duplicates(subset=['yanlis_kelime', 'dogru_kelime']).reset_index(drop=True)\n",
    "print(\"Kalan veri:\", len(df))\n",
    "\n",
    "karakterler = set(''.join(df['yanlis_kelime']) + ''.join(df['dogru_kelime']))\n",
    "karakterler = sorted(list(karakterler))\n",
    "karakterler = ['<pad>', '<s>', '<e>'] + karakterler\n",
    "char2idx = {ch: i for i, ch in enumerate(karakterler)}\n",
    "idx2char = {i: ch for ch, i in char2idx.items()}\n",
    "VOCAB_SIZE = len(char2idx)\n",
    "MAX_KELIME = max(df['yanlis_kelime'].str.len().max(), df['dogru_kelime'].str.len().max())\n",
    "print(\"Alfabe boyutu:\", VOCAB_SIZE)\n",
    "print(\"MAX_KELIME:\", MAX_KELIME)\n",
    "\n",
    "def encode_word(word, maxlen=MAX_KELIME):\n",
    "    seq = [char2idx['<s>']] + [char2idx.get(ch, char2idx['<pad>']) for ch in word] + [char2idx['<e>']]\n",
    "    seq = seq[:maxlen+2]\n",
    "    if len(seq) < maxlen+2:\n",
    "        seq += [char2idx['<pad>']] * (maxlen + 2 - len(seq))\n",
    "    return seq\n",
    "\n",
    "yanlis_encoded = np.array([encode_word(w) for w in df['yanlis_kelime']])\n",
    "dogru_encoded  = np.array([encode_word(w) for w in df['dogru_kelime']])\n",
    "print(\"Encoding tamam. Yanlış şekli:\", yanlis_encoded.shape, \"Doğru şekli:\", dogru_encoded.shape)\n"
   ]
  },
  {
   "cell_type": "markdown",
   "id": "8c512b2e",
   "metadata": {},
   "source": [
    "## 3. Veriyi PyTorch için Hazırlama ve Dataloader Kullanımı\n",
    "\n",
    " modelin eğitimi için veri hazırlığı\n",
    "\n",
    " **PyTorch Dataset Sınıfı:**  \n",
    "  Önce kendi veri seti sınıfımızı (`SpellDataset`) yazdık.  \n",
    "  Burada hem yanlış hem de doğru kelimeleri PyTorch tensörlerine çevirdik.  \n",
    "  Bu sınıf sayesinde, PyTorch modeline kolayca veri sağlayabiliyoruz.\n",
    "\n",
    "**Dataloader ile Veri Yükleme:**  \n",
    "  Çok büyük veriyle çalıştığımız için, hepsini birden RAM’e yüklemek yerine parça parça (batch halinde) modele gönderiyoruz.  \n",
    "  `BATCH_SIZE` ile her defasında 512 kelimeyi bir arada işliyoruz.  \n",
    "  Dataloader ile veriler GPU'ya hızlıca gönderilebiliyor ve eğitim sırasında her batch rasgele seçiliyor .\n",
    "\n",
    " **Batch Kontrolü:**  \n",
    "  Kodun sonunda, bir batch çekip boyutlarına baktık.  \n",
    "  Böylece modelimizin veri şekillerinin doğru olup olmadığını gördük.\n",
    "\n",
    "Sonuç olarak, eğitim sırasında model her defasında 512 tane yanlış ve doğru kelime çiftiyle çalışacak şekilde ayarlandı.\n"
   ]
  },
  {
   "cell_type": "code",
   "execution_count": null,
   "id": "e4b0f530",
   "metadata": {},
   "outputs": [
    {
     "name": "stdout",
     "output_type": "stream",
     "text": [
      "Batch input shape: torch.Size([512, 32])\n",
      "Batch target shape: torch.Size([512, 32])\n"
     ]
    }
   ],
   "source": [
    "import torch\n",
    "from torch.utils.data import Dataset, DataLoader\n",
    "\n",
    "class SpellDataset(torch.utils.data.Dataset):\n",
    "    def __init__(self, input_seqs, target_seqs):\n",
    "        self.input_seqs = torch.tensor(input_seqs, dtype=torch.long)\n",
    "        self.target_seqs = torch.tensor(target_seqs, dtype=torch.long)\n",
    "    def __len__(self):\n",
    "        return len(self.input_seqs)\n",
    "    def __getitem__(self, idx):\n",
    "        return self.input_seqs[idx], self.target_seqs[idx]\n",
    "\n",
    "BATCH_SIZE = 512          # büyük veri için GPU'da daha hızlı eğitim\n",
    "train_dataset = SpellDataset(yanlis_encoded, dogru_encoded)\n",
    "train_loader = DataLoader(\n",
    "    train_dataset,\n",
    "    batch_size=BATCH_SIZE,\n",
    "    shuffle=True,\n",
    "    num_workers=0,  \n",
    "    pin_memory=True\n",
    ")\n",
    "\n",
    "for xb, yb in train_loader:\n",
    "    print(\"Batch input shape:\", xb.shape)\n",
    "    print(\"Batch target shape:\", yb.shape)\n",
    "    break\n"
   ]
  },
  {
   "cell_type": "markdown",
   "id": "1ba6e1fd",
   "metadata": {},
   "source": [
    "## 4. LSTM Tabanlı Modelin Kurulması\n",
    "\n",
    " yanlış yazılmış kelimeyi doğruya çevirmek için kullanılacak model\n",
    "\n",
    "- **Modelin Temeli:**  \n",
    "  Modelimiz, karakter karakter çalışan bir LSTM (uzun-kısa süreli bellekli sinir ağı) tabanlı seq2seq (sıralıdan sıralıya) modelidir.  \n",
    "  Yani, model yanlış yazılmış bir kelimeyi okur ve doğru halini karakter karakter üretir.\n",
    "\n",
    "- **Katmanlar:**  \n",
    "  - **Embedding Katmanı:**  \n",
    "    Giren her harfi bir sayı vektörüne dönüştürür, böylece model harfler arasında anlamlı bir ilişki öğrenebilir.\n",
    "  - **Encoder LSTM:**  \n",
    "    Tüm yanlış kelimeyi okur ve özetini hafızasında tutar.\n",
    "  - **Decoder LSTM:**  \n",
    "    Bu özetle başlayıp, adım adım doğru kelimeyi üretir.\n",
    "  - **Linear Katman (fc):**  \n",
    "    Her adımda çıkan sonucu tekrar karaktere çevirir.\n",
    "\n",
    "- **Teacher Forcing:**  \n",
    "  Eğitim sırasında modelin bazen kendi ürettiği karakteri, bazen de doğrusunu kullanarak öğrenmesi sağlanır (teacher_forcing_ratio ile).  \n",
    "  Böylece daha hızlı ve sağlam öğrenir.\n",
    "\n",
    "- **Cihaz Seçimi:**  \n",
    "  Modeli GPU varsa GPU’da, yoksa CPU’da çalışacak şekilde kurduk.\n",
    "\n",
    "\n",
    "\n"
   ]
  },
  {
   "cell_type": "code",
   "execution_count": 13,
   "id": "d6082fd0",
   "metadata": {},
   "outputs": [
    {
     "name": "stdout",
     "output_type": "stream",
     "text": [
      "Seq2SeqLSTM(\n",
      "  (embedding): Embedding(66, 256, padding_idx=0)\n",
      "  (encoder): LSTM(256, 512, num_layers=3, batch_first=True, dropout=0.3)\n",
      "  (decoder): LSTM(256, 512, num_layers=3, batch_first=True, dropout=0.3)\n",
      "  (fc): Linear(in_features=512, out_features=66, bias=True)\n",
      ")\n"
     ]
    }
   ],
   "source": [
    "import torch.nn as nn\n",
    "\n",
    "class Seq2SeqLSTM(nn.Module):\n",
    "    def __init__(self, vocab_size, emb_size=256, hidden_size=512, num_layers=3, dropout=0.3):\n",
    "        super().__init__()\n",
    "        self.embedding = nn.Embedding(vocab_size, emb_size, padding_idx=0)\n",
    "        self.encoder = nn.LSTM(\n",
    "            input_size=emb_size,\n",
    "            hidden_size=hidden_size,\n",
    "            num_layers=num_layers,\n",
    "            dropout=dropout,\n",
    "            batch_first=True,\n",
    "            bidirectional=False\n",
    "        )\n",
    "        self.decoder = nn.LSTM(\n",
    "            input_size=emb_size,\n",
    "            hidden_size=hidden_size,\n",
    "            num_layers=num_layers,\n",
    "            dropout=dropout,\n",
    "            batch_first=True,\n",
    "            bidirectional=False\n",
    "        )\n",
    "        self.fc = nn.Linear(hidden_size, vocab_size)\n",
    "\n",
    "    def forward(self, src, trg, teacher_forcing_ratio=0.5):\n",
    "        device = src.device\n",
    "        embedded_src = self.embedding(src)\n",
    "        _, (hidden, cell) = self.encoder(embedded_src)\n",
    "\n",
    "        batch_size, trg_len = trg.size()\n",
    "        outputs = torch.zeros(batch_size, trg_len, self.fc.out_features).to(device)\n",
    "        input_token = trg[:, 0]\n",
    "\n",
    "        for t in range(1, trg_len):\n",
    "            embedded = self.embedding(input_token).unsqueeze(1)\n",
    "            output, (hidden, cell) = self.decoder(embedded, (hidden, cell))\n",
    "            pred = self.fc(output.squeeze(1))\n",
    "            outputs[:, t] = pred\n",
    "\n",
    "            teacher_force = torch.rand(1).item() < teacher_forcing_ratio\n",
    "            top1 = pred.argmax(1)\n",
    "            input_token = trg[:, t] if teacher_force else top1\n",
    "        return outputs\n",
    "\n",
    "device = torch.device(\"cuda\" if torch.cuda.is_available() else \"cpu\")\n",
    "model = Seq2SeqLSTM(\n",
    "    vocab_size=VOCAB_SIZE,\n",
    "    emb_size=256,\n",
    "    hidden_size=512,\n",
    "    num_layers=3,\n",
    "    dropout=0.3\n",
    ").to(device)\n",
    "\n",
    "print(model)\n"
   ]
  },
  {
   "cell_type": "markdown",
   "id": "3a45ebf3",
   "metadata": {},
   "source": [
    "## 5. Modelin Eğitimi ve Değerlendirme Metrikleri\n",
    "\n",
    " modelimizi eğitiyoruz ve her epoch  sonunda çeşitli değerlendirme sonuçlarını gösteriliyor\n",
    "\n",
    "- **Kayıp Fonksiyonu ve Optimizasyon:**  \n",
    "  Modelin yaptığı hataları ölçmek için çapraz entropi (CrossEntropyLoss) kullandık.  \n",
    "  Modelin ağırlıklarını güncellemek için Adam optimizasyonunu tercih ettik.\n",
    "\n",
    "- **Epoch Döngüsü:**  \n",
    "  Modeli toplam 5 tur boyunca eğittik.  \n",
    "  Her turda tüm veriyi parça parça (batch) modelden geçirip, hatayı hesaplayıp modelin öğrenmesini sağladık.\n",
    "\n",
    "- **Doğruluk Hesaplama:**  \n",
    "  Her batch'te modelin ne kadar doğru tahmin yaptığını hesapladık ve epoch sonunda ortalama doğruluğu kaydettik.\n",
    "\n",
    "- **F1 Skorları:**  \n",
    "  Sadece doğruluk değil, aynı zamanda F1-macro ve F1-micro gibi skorları da hesapladık.  \n",
    "  Böylece modelin hem yaygın hem de nadir karakterleri ne kadar iyi öğrendiğini gördük.\n",
    "\n",
    "- **Exact Match (Kelime Tam Doğru):**  \n",
    "  Ayrıca, modelin tahmin ettiği kelimenin harfi harfine tamamen doğru olup olmadığını da ölçtük.\n",
    "\n",
    "- **Eğitim Sonuçları:**  \n",
    "  Her epoch sonunda ekrana kayıp (loss), doğruluk (accuracy), F1 skorları ve tam kelime başarısını yazdırdık.  \n",
    "  Modelin ağırlıklarını da dosya olarak kaydettik (ileride tekrar kullanmak için).\n",
    "\n",
    "\n"
   ]
  },
  {
   "cell_type": "code",
   "execution_count": null,
   "id": "0a492b45",
   "metadata": {},
   "outputs": [
    {
     "name": "stderr",
     "output_type": "stream",
     "text": [
      "Epoch 1/5: 100%|██████████| 17282/17282 [1:15:55<00:00,  3.79it/s, Loss=0.2873, Acc=0.8096]\n"
     ]
    },
    {
     "name": "stdout",
     "output_type": "stream",
     "text": [
      "\n",
      "Epoch 1/5 - Loss: 0.4506 - Accuracy: 0.8096\n",
      "Flat accuracy: 0.8096 | F1 macro: 0.5751 | F1 micro: 0.8096\n",
      "Exact match (kelime tam doğru): 0.0000\n"
     ]
    },
    {
     "name": "stderr",
     "output_type": "stream",
     "text": [
      "Epoch 2/5: 100%|██████████| 17282/17282 [1:15:03<00:00,  3.84it/s, Loss=0.3219, Acc=0.8448]\n"
     ]
    },
    {
     "name": "stdout",
     "output_type": "stream",
     "text": [
      "\n",
      "Epoch 2/5 - Loss: 0.3122 - Accuracy: 0.8448\n",
      "Flat accuracy: 0.8448 | F1 macro: 0.7774 | F1 micro: 0.8448\n",
      "Exact match (kelime tam doğru): 0.0000\n"
     ]
    },
    {
     "name": "stderr",
     "output_type": "stream",
     "text": [
      "Epoch 3/5: 100%|██████████| 17282/17282 [1:14:46<00:00,  3.85it/s, Loss=0.3598, Acc=0.8497]\n"
     ]
    },
    {
     "name": "stdout",
     "output_type": "stream",
     "text": [
      "\n",
      "Epoch 3/5 - Loss: 0.2912 - Accuracy: 0.8497\n",
      "Flat accuracy: 0.8497 | F1 macro: 0.8156 | F1 micro: 0.8497\n",
      "Exact match (kelime tam doğru): 0.0000\n"
     ]
    },
    {
     "name": "stderr",
     "output_type": "stream",
     "text": [
      "Epoch 4/5: 100%|██████████| 17282/17282 [1:14:49<00:00,  3.85it/s, Loss=0.3700, Acc=0.8526]\n"
     ]
    },
    {
     "name": "stdout",
     "output_type": "stream",
     "text": [
      "\n",
      "Epoch 4/5 - Loss: 0.2788 - Accuracy: 0.8526\n",
      "Flat accuracy: 0.8526 | F1 macro: 0.8338 | F1 micro: 0.8526\n",
      "Exact match (kelime tam doğru): 0.0000\n"
     ]
    },
    {
     "name": "stderr",
     "output_type": "stream",
     "text": [
      "Epoch 5/5: 100%|██████████| 17282/17282 [1:14:42<00:00,  3.86it/s, Loss=0.2789, Acc=0.8546]\n"
     ]
    },
    {
     "name": "stdout",
     "output_type": "stream",
     "text": [
      "\n",
      "Epoch 5/5 - Loss: 0.2698 - Accuracy: 0.8546\n",
      "Flat accuracy: 0.8546 | F1 macro: 0.8381 | F1 micro: 0.8546\n",
      "Exact match (kelime tam doğru): 0.0000\n"
     ]
    }
   ],
   "source": [
    "import torch.optim as optim\n",
    "from tqdm import tqdm\n",
    "from sklearn.metrics import f1_score, accuracy_score\n",
    "\n",
    "criterion = nn.CrossEntropyLoss(ignore_index=char2idx['<pad>'])\n",
    "optimizer = optim.Adam(model.parameters(), lr=0.001)\n",
    "\n",
    "EPOCHS = 5\n",
    "\n",
    "for epoch in range(EPOCHS):\n",
    "    model.train()\n",
    "    epoch_loss = 0\n",
    "    total = 0\n",
    "    correct = 0\n",
    "\n",
    "    preds_all = []\n",
    "    trues_all = []\n",
    "\n",
    "    pbar = tqdm(train_loader, desc=f\"Epoch {epoch+1}/{EPOCHS}\")\n",
    "    for xb, yb in pbar:\n",
    "        xb = xb.to(device)\n",
    "        yb = yb.to(device)\n",
    "\n",
    "        optimizer.zero_grad()\n",
    "        output = model(xb, yb, teacher_forcing_ratio=0.5)\n",
    "\n",
    "        output_reshaped = output[:, 1:].reshape(-1, VOCAB_SIZE)\n",
    "        yb_reshaped = yb[:, 1:].reshape(-1)\n",
    "        loss = criterion(output_reshaped, yb_reshaped)\n",
    "        loss.backward()\n",
    "        optimizer.step()\n",
    "\n",
    "        epoch_loss += loss.item()\n",
    "\n",
    "        preds = output.argmax(dim=2).detach().cpu().numpy()\n",
    "        y_true = yb.detach().cpu().numpy()\n",
    "        preds_all.append(preds)\n",
    "        trues_all.append(y_true)\n",
    "\n",
    "        mask = (yb != char2idx['<pad>'])\n",
    "        correct += (output.argmax(dim=2) == yb).masked_select(mask).sum().item()\n",
    "        total += mask.sum().item()\n",
    "        pbar.set_postfix({'Loss': f\"{loss.item():.4f}\", 'Acc': f\"{(correct/total):.4f}\"})\n",
    "\n",
    "    avg_loss = epoch_loss / len(train_loader)\n",
    "    acc = correct / total\n",
    "\n",
    "    preds_all = np.concatenate(preds_all, axis=0)\n",
    "    trues_all = np.concatenate(trues_all, axis=0)\n",
    "\n",
    "    mask = trues_all != char2idx['<pad>']\n",
    "    preds_flat = preds_all[mask]\n",
    "    trues_flat = trues_all[mask]\n",
    "\n",
    "    f1_macro = f1_score(trues_flat, preds_flat, average='macro')\n",
    "    f1_micro = f1_score(trues_flat, preds_flat, average='micro')\n",
    "    acc_flat = accuracy_score(trues_flat, preds_flat)\n",
    "\n",
    "    exact_match = np.mean(\n",
    "        [np.array_equal(p, t) for p, t in zip(preds_all, trues_all)]\n",
    "    )\n",
    "\n",
    "    print(f\"\\nEpoch {epoch+1}/{EPOCHS} - Loss: {avg_loss:.4f} - Accuracy: {acc:.4f}\")\n",
    "    print(f\"Flat accuracy: {acc_flat:.4f} | F1 macro: {f1_macro:.4f} | F1 micro: {f1_micro:.4f}\")\n",
    "    print(f\"Exact match (kelime tam doğru): {exact_match:.4f}\")\n",
    "\n",
    "    torch.save(model.state_dict(), f\"full_lstm_seq2seq_epoch{epoch+1}.pt\")\n"
   ]
  },
  {
   "cell_type": "markdown",
   "id": "20791809",
   "metadata": {},
   "source": [
    "Toplam eğitim süresi: **6 saat 20 dakika 42 saniye** (380 dakika 41.9 saniye)\n"
   ]
  },
  {
   "cell_type": "markdown",
   "id": "1459f9f8",
   "metadata": {},
   "source": [
    "## Veri Setinin Yüklenmesi ve Karakter İşlemleri\n",
    "\n",
    "- Çok uzun (30 harften fazla) kelimeleri çıkardık.\n",
    "- Aynı olan yanlış-doğru kelime eşleşmelerini ve tekrarları sildik.\n",
    "- Tüm veri setinde geçen harfleri (karakterleri) bulup sıraladık.\n",
    "- Modelin başlangıç, bitiş ve boş karakterlerini (`<pad>`, `<s>`, `<e>`) de karakter listesine ekledik.\n",
    "- Her karaktere bir numara atadık (`char2idx` ve `idx2char` ile).\n",
    "- Modelin alfabesinde kaç farklı karakter olduğunu (`VOCAB_SIZE`) ve en uzun kelimenin kaç harfli olduğunu (`MAX_KELIME`) bulduk.\n"
   ]
  },
  {
   "cell_type": "code",
   "execution_count": null,
   "id": "d4d929ac",
   "metadata": {},
   "outputs": [],
   "source": [
    "import torch\n",
    "import torch.nn as nn\n",
    "\n",
    "\n",
    "import pandas as pd\n",
    "df = pd.read_csv('dataset.csv', sep=';')\n",
    "\n",
    "UZUNLUK_SINIRI = 30\n",
    "df = df[(df['yanlis_kelime'].str.len() <= UZUNLUK_SINIRI) & (df['dogru_kelime'].str.len() <= UZUNLUK_SINIRI)]\n",
    "df = df[df['yanlis_kelime'] != df['dogru_kelime']]\n",
    "df = df.drop_duplicates(subset=['yanlis_kelime', 'dogru_kelime']).reset_index(drop=True)\n",
    "karakterler = set(''.join(df['yanlis_kelime']) + ''.join(df['dogru_kelime']))\n",
    "karakterler = sorted(list(karakterler))\n",
    "karakterler = ['<pad>', '<s>', '<e>'] + karakterler\n",
    "char2idx = {ch: i for i, ch in enumerate(karakterler)}\n",
    "idx2char = {i: ch for ch, i in char2idx.items()}\n",
    "VOCAB_SIZE = len(char2idx)\n",
    "MAX_KELIME = max(df['yanlis_kelime'].str.len().max(), df['dogru_kelime'].str.len().max())\n"
   ]
  },
  {
   "cell_type": "markdown",
   "id": "03ddbdf9",
   "metadata": {},
   "source": [
    "## Seq2Seq LSTM Modelinin Tanımlanması\n",
    "\n",
    "- Burada yanlış yazılmış kelimeleri doğruya çevirmek için model\n",
    "- Model, PyTorch'un `nn.Module` sınıfından türetiliyor.\n",
    "- **Embedding katmanı:**  \n",
    "  Harfleri daha anlamlı sayı vektörlerine çeviriyor.\n",
    "- **Encoder LSTM:**  \n",
    "  Yanlış kelimeyi baştan sona okuyor ve hafızasında özetliyor.\n",
    "- **Decoder LSTM:**  \n",
    "  Encoder'ın hafızasından başlayarak, doğru kelimeyi karakter karakter üretmeye başlıyor.\n",
    "- **Linear (fc) katmanı:**  \n",
    "  LSTM’den çıkan sonuçları tekrar harfe çeviriyor.\n",
    "\n",
    "- **İleri yayılım (forward) fonksiyonu:**  \n",
    "  Bir kelime verildiğinde, önce tümünü encoding ile okuyor, sonra adım adım doğru kelimeyi oluşturmaya başlıyor.\n",
    "- **Teacher Forcing:**  \n",
    "  Eğitim sırasında model bazen doğru harfi, bazen kendi tahminini kullanıyor.  \n",
    "  Bu şekilde daha hızlı ve sağlam öğreniyor.\n",
    "\n"
   ]
  },
  {
   "cell_type": "code",
   "execution_count": 2,
   "id": "fa7ee1dd",
   "metadata": {},
   "outputs": [],
   "source": [
    "class Seq2SeqLSTM(nn.Module):\n",
    "    def __init__(self, vocab_size, emb_size=256, hidden_size=512, num_layers=3, dropout=0.3):\n",
    "        super().__init__()\n",
    "        self.embedding = nn.Embedding(vocab_size, emb_size, padding_idx=0)\n",
    "        self.encoder = nn.LSTM(\n",
    "            input_size=emb_size,\n",
    "            hidden_size=hidden_size,\n",
    "            num_layers=num_layers,\n",
    "            dropout=dropout,\n",
    "            batch_first=True,\n",
    "            bidirectional=False\n",
    "        )\n",
    "        self.decoder = nn.LSTM(\n",
    "            input_size=emb_size,\n",
    "            hidden_size=hidden_size,\n",
    "            num_layers=num_layers,\n",
    "            dropout=dropout,\n",
    "            batch_first=True,\n",
    "            bidirectional=False\n",
    "        )\n",
    "        self.fc = nn.Linear(hidden_size, vocab_size)\n",
    "\n",
    "    def forward(self, src, trg, teacher_forcing_ratio=0.5):\n",
    "        device = src.device\n",
    "        embedded_src = self.embedding(src)\n",
    "        _, (hidden, cell) = self.encoder(embedded_src)\n",
    "\n",
    "        batch_size, trg_len = trg.size()\n",
    "        outputs = torch.zeros(batch_size, trg_len, self.fc.out_features).to(device)\n",
    "        input_token = trg[:, 0]\n",
    "\n",
    "        for t in range(1, trg_len):\n",
    "            embedded = self.embedding(input_token).unsqueeze(1)\n",
    "            output, (hidden, cell) = self.decoder(embedded, (hidden, cell))\n",
    "            pred = self.fc(output.squeeze(1))\n",
    "            outputs[:, t] = pred\n",
    "\n",
    "            teacher_force = torch.rand(1).item() < teacher_forcing_ratio\n",
    "            top1 = pred.argmax(1)\n",
    "            input_token = trg[:, t] if teacher_force else top1\n",
    "        return outputs\n"
   ]
  },
  {
   "cell_type": "markdown",
   "id": "60b3fded",
   "metadata": {},
   "source": [
    "## Eğitilmiş Modelin Yüklenmesi ve Kullanıma Hazır Hale Getirilmesi\n",
    "\n",
    "- Önce, modelin hangi cihazda (GPU veya CPU) çalışacağını belirlendi\n",
    "\n",
    "- Sonra, az önce tanımladığımız LSTM modelini belirtilen ayarlarla oluşturduk ve seçili cihaza gönderdik.\n",
    "- Daha önce eğitim sırasında kaydettiğimiz model ağırlıklarını (`full_lstm_seq2seq_epoch5.pt`) yükledik.\n",
    "- Modeli “eval” moduna aldık, yani artık tahmin yapmak için hazır hale getirdik.\n",
    "- Kodun sonunda modelin katman yapısı ekrana yazdırıldı.\n",
    "\n",
    "Bu adımla, önceden eğittiğimiz modeli tekrar kullanabilir ve yeni yanlış kelimeler üzerinde doğru tahminler alabilir hale geldik.\n"
   ]
  },
  {
   "cell_type": "code",
   "execution_count": 3,
   "id": "9cf348af",
   "metadata": {},
   "outputs": [
    {
     "data": {
      "text/plain": [
       "Seq2SeqLSTM(\n",
       "  (embedding): Embedding(66, 256, padding_idx=0)\n",
       "  (encoder): LSTM(256, 512, num_layers=3, batch_first=True, dropout=0.3)\n",
       "  (decoder): LSTM(256, 512, num_layers=3, batch_first=True, dropout=0.3)\n",
       "  (fc): Linear(in_features=512, out_features=66, bias=True)\n",
       ")"
      ]
     },
     "execution_count": 3,
     "metadata": {},
     "output_type": "execute_result"
    }
   ],
   "source": [
    "device = torch.device(\"cuda\" if torch.cuda.is_available() else \"cpu\")\n",
    "model = Seq2SeqLSTM(\n",
    "    vocab_size=VOCAB_SIZE,\n",
    "    emb_size=256,\n",
    "    hidden_size=512,\n",
    "    num_layers=3,\n",
    "    dropout=0.3\n",
    ").to(device)\n",
    "\n",
    "model.load_state_dict(torch.load(\"full_lstm_seq2seq_epoch5.pt\", map_location=device))\n",
    "model.eval()\n"
   ]
  },
  {
   "cell_type": "markdown",
   "id": "08aa63cf",
   "metadata": {},
   "source": [
    "## predict_word Fonksiyonu: Modelle Kelime Düzeltme\n",
    "\n",
    "- Bu fonksiyon, modele yanlış yazılmış bir kelime verip, modelin düzelttiği doğru kelimeyi döndürüyor.\n",
    "- Önce, yanlış kelimeyi başına `<s>`, sonuna `<e>` karakterleri ekleyip sayıya (index) çeviriyoruz.\n",
    "- Eğer kelime çok kısa ise, sonunda `<pad>` karakteriyle tamamlıyoruz; böylece her kelime aynı uzunlukta oluyor.\n",
    "- Sonra bu sayılar tensör haline getirilip modele veriliyor.\n",
    "- Model önce kelimeyi (encoder ile) okuyor ve hafızasına alıyor.\n",
    "- Sonra decoder kısmı başlıyor; her adımda bir karakter tahmin ediliyor ve doğru kelime üretiliyor.\n",
    "- Model `<e>` (bitiş) karakterine gelene kadar bu işlemi tekrar ediyor.\n",
    "- Tahmin edilen karakterleri sırayla toplayıp, sonunda hepsini birleştiriyoruz ve yeni (doğru) kelimeyi elde ediyoruz.\n"
   ]
  },
  {
   "cell_type": "code",
   "execution_count": null,
   "id": "d58fd3b6",
   "metadata": {},
   "outputs": [],
   "source": [
    "def predict_word(model, yanlis_kelime, char2idx, idx2char, device, max_len=MAX_KELIME):\n",
    "    seq = [char2idx['<s>']] + [char2idx.get(ch, char2idx['<pad>']) for ch in yanlis_kelime] + [char2idx['<e>']]\n",
    "    seq = seq[:max_len+2]\n",
    "    if len(seq) < max_len+2:\n",
    "        seq += [char2idx['<pad>']] * (max_len + 2 - len(seq))\n",
    "    inp = torch.tensor([seq], dtype=torch.long, device=device)\n",
    "    with torch.no_grad():\n",
    "        embedded = model.embedding(inp)\n",
    "        _, (hidden, cell) = model.encoder(embedded)\n",
    "        input_token = torch.tensor([char2idx['<s>']], device=device)\n",
    "        decoded = []\n",
    "        for _ in range(max_len+2):\n",
    "            emb = model.embedding(input_token).unsqueeze(1)\n",
    "            output, (hidden, cell) = model.decoder(emb, (hidden, cell))\n",
    "            pred = model.fc(output.squeeze(1))\n",
    "            next_token = pred.argmax(1)\n",
    "            if idx2char[next_token.item()] == '<e>':\n",
    "                break\n",
    "            decoded.append(idx2char[next_token.item()])\n",
    "            input_token = next_token\n",
    "    return ''.join(decoded)\n"
   ]
  },
  {
   "cell_type": "markdown",
   "id": "4fa1d0c8",
   "metadata": {},
   "source": [
    "## Modelin Test Edilmesi ve Exact Match Başarısı\n",
    "\n",
    "- Modelin gerçek hayattaki başarısını görmek için, test verisinden 100.000 tane yanlış-doğru kelime çifti aldık.\n",
    "- Her bir yanlış kelimeyi modelle düzelttik ve modelin tahmin ettiği kelimeyle, asıl doğru kelimeyi karşılaştırdık.\n",
    "- Eğer modelin düzelttiği kelime, doğru kelimenin harfi harfine aynısıysa, doğru sayısını bir artırdık.\n",
    "- Sonunda, modelin tam olarak doğru tahmin ettiği kelimelerin oranını hesapladık.\n",
    "\n",
    "Sonuçta, modelin **ilk 100.000 kelimede exact match (tam doğru kelime) başarısı %73.7** olarak bulundu.  \n",
    "Yani, model 100.000 yanlış kelimenin 73.700 tanesini harfi harfine doğruya çevirmiş oldu.\n"
   ]
  },
  {
   "cell_type": "code",
   "execution_count": null,
   "id": "7f5dfcd5",
   "metadata": {},
   "outputs": [
    {
     "name": "stdout",
     "output_type": "stream",
     "text": [
      "Exact match accuracy (ilk 100000 kelime): 0.737\n"
     ]
    }
   ],
   "source": [
    "test_N = 100000\n",
    "dogru_sayisi = 0\n",
    "for i in range(test_N):\n",
    "    yanlis = df['yanlis_kelime'].iloc[i]\n",
    "    dogru = df['dogru_kelime'].iloc[i]\n",
    "    tahmin = predict_word(model, yanlis, char2idx, idx2char, device)\n",
    "    if tahmin == dogru:\n",
    "        dogru_sayisi += 1\n",
    "print(f\"Exact match accuracy (ilk {test_N} kelime): {dogru_sayisi/test_N:.3f}\")\n"
   ]
  },
  {
   "cell_type": "markdown",
   "id": "910dbbde",
   "metadata": {},
   "source": [
    "## Eğitim Sonuçlarının Grafiklerle Gösterilmesi\n",
    "\n",
    "- Eğitim boyunca modelin başarısını ve gelişimini daha iyi görebilmek için, her epoch sonunda elde edilen metrikleri liste olarak kaydettik.\n",
    "- Sonra bu değerleri grafiklere döktük:\n",
    "\n",
    "1. **Loss Grafiği:**  \n",
    "   Modelin hatası (loss) her epoch’ta nasıl azalmış, bunu gösterdik.  \n",
    "   Loss değeri düştükçe modelin daha iyi öğrendiğini anlıyoruz.\n",
    "\n",
    "2. **Accuracy ve Exact Match Grafiği:**  \n",
    "   Doğruluk oranı (accuracy) her epoch’ta nasıl artmış, ve modelin tam kelimeyi doğru tahmin etme oranı (exact match) nasıl değişmiş, bunu aynı grafikte gösterdik.  \n",
    "   Accuracy’nin sürekli arttığı, exact match’in ise burada sıfır kaldığı görülüyor (çünkü eğitim sırasında değil, testte ölçülüyor).\n",
    "\n",
    "3. **F1 Skorları Grafiği:**  \n",
    "   Modelin hem yaygın hem de nadir karakterlerdeki başarısını gösteren F1-macro ve F1-micro skorlarını çizdik.  \n",
    "   Bu skorlar yükseldikçe, modelin tüm karakterlerde daha dengeli ve güçlü tahminler yaptığını görüyoruz.\n"
   ]
  },
  {
   "cell_type": "code",
   "execution_count": 6,
   "id": "150efab4",
   "metadata": {},
   "outputs": [
    {
     "data": {
      "image/png": "[encoded data removed]",
      "text/plain": [
       "<Figure size 1600x500 with 3 Axes>"
      ]
     },
     "metadata": {},
     "output_type": "display_data"
    }
   ],
   "source": [
    "loss_list = [0.4506, 0.3122, 0.2912, 0.2788, 0.2698]\n",
    "acc_list = [0.8096, 0.8448, 0.8497, 0.8526, 0.8546]\n",
    "f1_macro_list = [0.5751, 0.7774, 0.8156, 0.8338, 0.8381]\n",
    "f1_micro_list = [0.8096, 0.8448, 0.8497, 0.8526, 0.8546]\n",
    "exact_match_list = [0.0, 0.0, 0.0, 0.0, 0.0]  \n",
    "epochs = range(1, 6)\n",
    "\n",
    "import matplotlib.pyplot as plt\n",
    "\n",
    "plt.figure(figsize=(16,5))\n",
    "\n",
    "# Loss Grafiği\n",
    "plt.subplot(1,3,1)\n",
    "plt.plot(epochs, loss_list, marker='o', color='red')\n",
    "plt.title('Loss Değişimi')\n",
    "plt.xlabel('Epoch')\n",
    "plt.ylabel('Loss')\n",
    "plt.grid(True)\n",
    "\n",
    "# Accuracy ve Exact Match\n",
    "plt.subplot(1,3,2)\n",
    "plt.plot(epochs, acc_list, marker='o', label='Accuracy', color='blue')\n",
    "plt.plot(epochs, exact_match_list, marker='s', label='Exact Match', color='green')\n",
    "plt.title('Doğruluk')\n",
    "plt.xlabel('Epoch')\n",
    "plt.ylabel('Oran')\n",
    "plt.legend()\n",
    "plt.grid(True)\n",
    "\n",
    "# F1-skorları\n",
    "plt.subplot(1,3,3)\n",
    "plt.plot(epochs, f1_macro_list, marker='^', label='F1 Macro', color='purple')\n",
    "plt.plot(epochs, f1_micro_list, marker='v', label='F1 Micro', color='orange')\n",
    "plt.title('F1 Skorları')\n",
    "plt.xlabel('Epoch')\n",
    "plt.ylabel('F1 Skor')\n",
    "plt.legend()\n",
    "plt.grid(True)\n",
    "\n",
    "plt.tight_layout()\n",
    "plt.show()\n"
   ]
  },
  {
   "cell_type": "markdown",
   "id": "78e66e28",
   "metadata": {},
   "source": [
    "### Değerlendirme Metrikleri Açıklamaları\n",
    "\n",
    "| Metrik       | Açıklama                                                                                                                                                   |\n",
    "|--------------|------------------------------------------------------------------------------------------------------------------------------------------------------------|\n",
    "| **Epoch**    | Modelin eğitiminin kaçıncı tekrarında (turunda) ölçüm yapıldığını belirtir.                                                                                |\n",
    "| **Loss**     | Modelin tahmin hatasını gösteren bir sayı. Düşük olması, modelin tahminlerinin daha doğru olduğunu gösterir.                                               |\n",
    "| **Accuracy** | Karakter bazında doğruluk oranı. Tüm tahmin edilen karakterlerin yüzde kaçı doğru bulunmuş?                                                                |\n",
    "| **ExactMatch** | Tam kelime doğruluğu: Bir kelimenin tüm harfleri eksiksiz doğruysa 1, değilse 0 olarak hesaplanır. Ortalama alındığında, modelin harfi harfine tam doğru çevirdiği kelimelerin oranını verir. |\n",
    "| **F1_macro** | Her harf sınıfı için hesaplanan F1 skorlarının ortalamasıdır. Hem yaygın hem de nadir görülen harflerin doğruluk ve hassasiyetini birlikte ölçer.          |\n",
    "| **F1_micro** | Tüm harfler için genel F1 skorudur. Modelin tüm karakterlerdeki genel başarısını özetler, genellikle accuracy ile çok yakın bir değerdir.                  |\n",
    "\n",
    "\n",
    "#### Daha kısa özetle:\n",
    "\n",
    "- **Epoch:** Eğitimdeki tekrar sayısı \n",
    "- **Loss:** Modelin ortalama tahmin hatası (ne kadar düşükse o kadar iyi).\n",
    "- **Accuracy:** Karakter başına genel doğruluk.\n",
    "- **ExactMatch:** Tüm harfleri eksiksiz doğru tahmin edilen kelime oranı.\n",
    "- **F1_macro:** Her karakter sınıfı için ortalama doğruluk ve duyarlılık (hem sık hem nadir harfler eşit ağırlıkta).\n",
    "- **F1_micro:** Tüm karakterler üzerinde toplam başarı \n"
   ]
  },
  {
   "cell_type": "markdown",
   "id": "3746d67e",
   "metadata": {},
   "source": [
    "### Eğitim Süreci Metrik Tablosu\n",
    "\n",
    "| Epoch | Loss   | Accuracy | ExactMatch | F1_macro | F1_micro |\n",
    "|-------|--------|----------|------------|----------|----------|\n",
    "| 1     | 0.4506 | 0.8096   | 0.0        | 0.5751   | 0.8096   |\n",
    "| 2     | 0.3122 | 0.8448   | 0.0        | 0.7774   | 0.8448   |\n",
    "| 3     | 0.2912 | 0.8497   | 0.0        | 0.8156   | 0.8497   |\n",
    "| 4     | 0.2788 | 0.8526   | 0.0        | 0.8338   | 0.8526   |\n",
    "| 5     | 0.2698 | 0.8546   | 0.0        | 0.8381   | 0.8546   |\n",
    "\n",
    "#### Tablo Üzerine Yorum\n",
    "\n",
    "- **Loss** değeri, her epoch'ta  düzenli olarak azalmıştır. Bu durum, modelin tahminlerinde daha az hata yapmaya başladığını ve öğrenmenin başarıyla ilerlediğini gösterir.\n",
    "- **Accuracy** başlangıçta %80.96 iken, eğitim sonunda %85.46'ya ulaşmıştır. Bu, modelin karakter bazında oldukça başarılı olduğunu gösterir.\n",
    "- **F1_macro** ve **F1_micro** skorları, modelin hem sık görülen hem de nadir harflerde iyi performans sergilediğini ve genel doğruluğunun yüksek olduğunu gösterir. F1_macro değeri epoch başında 0.57 iken, eğitim sonunda 0.83'e yükselmiştir.\n",
    "- **ExactMatch** değeri burada eğitim sırasında sıfır olarak kalmış, çünkü bu metrik tipik olarak modelin test veya doğrulama verisi üzerinde, tüm kelimenin eksiksiz doğru tahmin edilip edilmediğini ölçmek için ayrı bir aşamada hesaplanır.\n",
    "- Sonuç olarak, eğitim boyunca kayıp (loss) azalmış ve doğruluk oranları sürekli yükselmiştir. Model, karakter bazında %85'in üzerinde başarıya ulaşmıştır.\n",
    "\n",
    "\n"
   ]
  },
  {
   "cell_type": "code",
   "execution_count": null,
   "id": "2b8d8d96",
   "metadata": {},
   "outputs": [
    {
     "data": {
      "text/html": [
       "<div>\n",
       "<style scoped>\n",
       "    .dataframe tbody tr th:only-of-type {\n",
       "        vertical-align: middle;\n",
       "    }\n",
       "\n",
       "    .dataframe tbody tr th {\n",
       "        vertical-align: top;\n",
       "    }\n",
       "\n",
       "    .dataframe thead th {\n",
       "        text-align: right;\n",
       "    }\n",
       "</style>\n",
       "<table border=\"1\" class=\"dataframe\">\n",
       "  <thead>\n",
       "    <tr style=\"text-align: right;\">\n",
       "      <th></th>\n",
       "      <th>Epoch</th>\n",
       "      <th>Loss</th>\n",
       "      <th>Accuracy</th>\n",
       "      <th>ExactMatch</th>\n",
       "      <th>F1_macro</th>\n",
       "      <th>F1_micro</th>\n",
       "    </tr>\n",
       "  </thead>\n",
       "  <tbody>\n",
       "    <tr>\n",
       "      <th>0</th>\n",
       "      <td>1</td>\n",
       "      <td>0.4506</td>\n",
       "      <td>0.8096</td>\n",
       "      <td>0.0</td>\n",
       "      <td>0.5751</td>\n",
       "      <td>0.8096</td>\n",
       "    </tr>\n",
       "    <tr>\n",
       "      <th>1</th>\n",
       "      <td>2</td>\n",
       "      <td>0.3122</td>\n",
       "      <td>0.8448</td>\n",
       "      <td>0.0</td>\n",
       "      <td>0.7774</td>\n",
       "      <td>0.8448</td>\n",
       "    </tr>\n",
       "    <tr>\n",
       "      <th>2</th>\n",
       "      <td>3</td>\n",
       "      <td>0.2912</td>\n",
       "      <td>0.8497</td>\n",
       "      <td>0.0</td>\n",
       "      <td>0.8156</td>\n",
       "      <td>0.8497</td>\n",
       "    </tr>\n",
       "    <tr>\n",
       "      <th>3</th>\n",
       "      <td>4</td>\n",
       "      <td>0.2788</td>\n",
       "      <td>0.8526</td>\n",
       "      <td>0.0</td>\n",
       "      <td>0.8338</td>\n",
       "      <td>0.8526</td>\n",
       "    </tr>\n",
       "    <tr>\n",
       "      <th>4</th>\n",
       "      <td>5</td>\n",
       "      <td>0.2698</td>\n",
       "      <td>0.8546</td>\n",
       "      <td>0.0</td>\n",
       "      <td>0.8381</td>\n",
       "      <td>0.8546</td>\n",
       "    </tr>\n",
       "  </tbody>\n",
       "</table>\n",
       "</div>"
      ],
      "text/plain": [
       "   Epoch    Loss  Accuracy  ExactMatch  F1_macro  F1_micro\n",
       "0      1  0.4506    0.8096         0.0    0.5751    0.8096\n",
       "1      2  0.3122    0.8448         0.0    0.7774    0.8448\n",
       "2      3  0.2912    0.8497         0.0    0.8156    0.8497\n",
       "3      4  0.2788    0.8526         0.0    0.8338    0.8526\n",
       "4      5  0.2698    0.8546         0.0    0.8381    0.8546"
      ]
     },
     "metadata": {},
     "output_type": "display_data"
    }
   ],
   "source": [
    "import pandas as pd\n",
    "df_metrics = pd.DataFrame({\n",
    "    'Epoch': list(epochs),\n",
    "    'Loss': loss_list,\n",
    "    'Accuracy': acc_list,\n",
    "    'ExactMatch': exact_match_list,\n",
    "    'F1_macro': f1_macro_list,\n",
    "    'F1_micro': f1_micro_list\n",
    "})\n",
    "display(df_metrics)\n"
   ]
  }
 ],
 "metadata": {
  "kernelspec": {
   "display_name": "Python 3",
   "language": "python",
   "name": "python3"
  },
  "language_info": {
   "codemirror_mode": {
    "name": "ipython",
    "version": 3
   },
   "file_extension": ".py",
   "mimetype": "text/x-python",
   "name": "python",
   "nbconvert_exporter": "python",
   "pygments_lexer": "ipython3",
   "version": "3.13.2"
  }
 },
 "nbformat": 4,
 "nbformat_minor": 5
}
